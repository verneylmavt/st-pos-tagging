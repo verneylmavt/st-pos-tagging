{
 "cells": [
  {
   "cell_type": "code",
   "execution_count": 1,
   "metadata": {},
   "outputs": [],
   "source": [
    "import os\n",
    "import random\n",
    "from tqdm import tqdm\n",
    "import urllib.request\n",
    "import zipfile"
   ]
  },
  {
   "cell_type": "code",
   "execution_count": null,
   "metadata": {},
   "outputs": [],
   "source": [
    "import numpy as np\n",
    "import matplotlib.pyplot as plt\n",
    "\n",
    "from collections import defaultdict"
   ]
  },
  {
   "cell_type": "code",
   "execution_count": null,
   "metadata": {},
   "outputs": [],
   "source": [
    "import nltk\n",
    "from nltk.corpus import treebank\n",
    "from nltk.tree import Tree\n",
    "\n",
    "import torch\n",
    "import torch.nn as nn\n",
    "from torch.utils.data import Dataset, DataLoader"
   ]
  },
  {
   "cell_type": "code",
   "execution_count": null,
   "metadata": {},
   "outputs": [],
   "source": [
    "from sklearn.model_selection import train_test_split\n",
    "from sklearn.metrics import accuracy_score, f1_score, precision_score, recall_score, classification_report,confusion_matrix"
   ]
  },
  {
   "cell_type": "code",
   "execution_count": null,
   "metadata": {},
   "outputs": [],
   "source": [
    "import optuna\n",
    "from optuna.trial import TrialState"
   ]
  },
  {
   "cell_type": "code",
   "execution_count": 2,
   "metadata": {},
   "outputs": [],
   "source": [
    "device = torch.device('cuda:0' if torch.cuda.is_available() else 'cpu')"
   ]
  },
  {
   "cell_type": "markdown",
   "metadata": {},
   "source": [
    "### StackedTransformerEncoder"
   ]
  },
  {
   "cell_type": "markdown",
   "metadata": {},
   "source": [
    "#### Seed Setting"
   ]
  },
  {
   "cell_type": "markdown",
   "metadata": {},
   "source": [
    "```markdown\n",
    "In here, the code sets the random seed for reproducibility across random, NumPy, and PyTorch operations. This ensures consistent results by fixing the seed for both CPU and GPU computations.\n",
    "```"
   ]
  },
  {
   "cell_type": "code",
   "execution_count": 3,
   "metadata": {},
   "outputs": [],
   "source": [
    "def set_seed(seed=42):\n",
    "    random.seed(seed)\n",
    "    np.random.seed(seed)\n",
    "    torch.manual_seed(seed)\n",
    "    if torch.cuda.is_available():\n",
    "        torch.cuda.manual_seed_all(seed)\n",
    "set_seed()"
   ]
  },
  {
   "cell_type": "markdown",
   "metadata": {},
   "source": [
    "#### Data Loading"
   ]
  },
  {
   "cell_type": "markdown",
   "metadata": {},
   "source": [
    "```markdown\n",
    "In here, the code loads the parsed sentences from the Penn Treebank corpus, converting them into a list of tree structures for further processing.\n",
    "```"
   ]
  },
  {
   "cell_type": "code",
   "execution_count": 4,
   "metadata": {},
   "outputs": [],
   "source": [
    "trees = list(treebank.parsed_sents())"
   ]
  },
  {
   "cell_type": "markdown",
   "metadata": {},
   "source": [
    "#### Frequency Counting"
   ]
  },
  {
   "cell_type": "markdown",
   "metadata": {},
   "source": [
    "```markdown\n",
    "In here, the code iterates through each tree to count the frequency of words and POS tags. It stores these counts in dictionaries to facilitate vocabulary construction.\n",
    "```"
   ]
  },
  {
   "cell_type": "code",
   "execution_count": 5,
   "metadata": {},
   "outputs": [],
   "source": [
    "word_freq = defaultdict(int)\n",
    "pos_freq = defaultdict(int)"
   ]
  },
  {
   "cell_type": "code",
   "execution_count": 6,
   "metadata": {},
   "outputs": [],
   "source": [
    "for tree in trees:\n",
    "    for subtree in tree.subtrees():\n",
    "        if subtree.height() == 2:\n",
    "            word = subtree.leaves()[0].lower()\n",
    "            pos = subtree.label()\n",
    "            word_freq[word] += 1\n",
    "            pos_freq[pos] += 1"
   ]
  },
  {
   "cell_type": "markdown",
   "metadata": {},
   "source": [
    "#### Vocabulary Building"
   ]
  },
  {
   "cell_type": "markdown",
   "metadata": {},
   "source": [
    "```markdown\n",
    "In here, the code constructs mappings from words and POS tags to unique indices, including special tokens for padding and unknown words. It also creates reverse mappings for later use in decoding predictions.\n",
    "```"
   ]
  },
  {
   "cell_type": "code",
   "execution_count": 7,
   "metadata": {},
   "outputs": [],
   "source": [
    "min_freq = 2\n",
    "\n",
    "word2idx = {'<PAD>': 0, '<UNK>': 1}\n",
    "for word, freq in word_freq.items():\n",
    "    if freq >= min_freq:\n",
    "        word2idx[word] = len(word2idx)\n",
    "        \n",
    "pos2idx = {'<PAD>': 0}\n",
    "for pos, freq in pos_freq.items():\n",
    "    pos2idx[pos] = len(pos2idx)"
   ]
  },
  {
   "cell_type": "code",
   "execution_count": 8,
   "metadata": {},
   "outputs": [],
   "source": [
    "idx2word = {idx: word for word, idx in word2idx.items()}\n",
    "idx2pos = {idx: pos for pos, idx in pos2idx.items()}"
   ]
  },
  {
   "cell_type": "markdown",
   "metadata": {},
   "source": [
    "#### Embedding Loading"
   ]
  },
  {
   "cell_type": "markdown",
   "metadata": {},
   "source": [
    "```markdown\n",
    "In here, the code defines a function to load pre-trained GloVe embeddings. It initializes an embedding matrix with random values and replaces them with GloVe vectors for words present in the vocabulary.\n",
    "```"
   ]
  },
  {
   "cell_type": "code",
   "execution_count": 9,
   "metadata": {},
   "outputs": [],
   "source": [
    "def download_glove(glove_url, download_path, extract_to):\n",
    "    urllib.request.urlretrieve(glove_url, download_path)\n",
    "    with zipfile.ZipFile(download_path, 'r') as zip_ref:\n",
    "        zip_ref.extractall(extract_to)"
   ]
  },
  {
   "cell_type": "code",
   "execution_count": null,
   "metadata": {},
   "outputs": [],
   "source": [
    "def load_glove_embeddings(glove_file_path, embedding_dim, word2idx):\n",
    "    embeddings = np.random.uniform(-0.25, 0.25, (len(word2idx), embedding_dim))\n",
    "    embeddings[word2idx['<PAD>']] = np.zeros(embedding_dim)\n",
    "\n",
    "    glove_url = \"https://nlp.stanford.edu/data/glove.6B.zip\"\n",
    "    glove_zip_path = os.path.join(os.path.dirname(glove_file_path), \"glove.6B.zip\")\n",
    "    glove_dir = os.path.dirname(glove_file_path)\n",
    "\n",
    "    if not os.path.isfile(glove_file_path):\n",
    "        if not os.path.exists(glove_dir):\n",
    "            os.makedirs(glove_dir)\n",
    "        download_glove(glove_url, glove_zip_path, glove_dir)\n",
    "\n",
    "    with open(glove_file_path, 'r', encoding='utf8') as f:\n",
    "        for line_num, line in enumerate(f):\n",
    "            values = line.strip().split()\n",
    "            if not values:\n",
    "                continue\n",
    "            word = values[0]\n",
    "            vector = np.array(values[1:], dtype='float32')\n",
    "            if word in word2idx:\n",
    "                embeddings[word2idx[word]] = vector\n",
    "\n",
    "    return torch.tensor(embeddings, dtype=torch.float32)"
   ]
  },
  {
   "cell_type": "code",
   "execution_count": 10,
   "metadata": {},
   "outputs": [],
   "source": [
    "embedding_dim = 200\n",
    "embedding_matrix = load_glove_embeddings(\"../../data/glove.6B.200d/glove.6B.200d.txt\", embedding_dim, word2idx)"
   ]
  },
  {
   "cell_type": "markdown",
   "metadata": {},
   "source": [
    "#### Dataset and DataLoader"
   ]
  },
  {
   "cell_type": "markdown",
   "metadata": {},
   "source": [
    "```markdown\n",
    "In here, the code defines a custom dataset class for the Treebank data and a collate function to handle batching and padding. It splits the data into training and validation sets and creates corresponding DataLoader instances.\n",
    "```"
   ]
  },
  {
   "cell_type": "code",
   "execution_count": 11,
   "metadata": {},
   "outputs": [],
   "source": [
    "class TreebankDataset(Dataset):\n",
    "    def __init__(self, trees, word2idx, pos2idx):\n",
    "        self.trees = trees\n",
    "        self.word2idx = word2idx\n",
    "        self.pos2idx = pos2idx\n",
    "\n",
    "    def __len__(self):\n",
    "        return len(self.trees)\n",
    "\n",
    "    def __getitem__(self, idx):\n",
    "        tree = self.trees[idx]\n",
    "        words = [word.lower() for word in tree.leaves()]\n",
    "        pos_tags = [subtree.label() for subtree in tree.subtrees() if subtree.height() == 2]\n",
    "        word_indices = [self.word2idx.get(word, self.word2idx['<UNK>']) for word in words]\n",
    "        pos_indices = [self.pos2idx.get(tag, self.pos2idx['<PAD>']) for tag in pos_tags]\n",
    "        return torch.tensor(word_indices, dtype=torch.long), torch.tensor(pos_indices, dtype=torch.long)\n",
    "\n",
    "def collate_fn(batch):\n",
    "    batch.sort(key=lambda x: len(x[0]), reverse=True)\n",
    "    sentences, pos_tags = zip(*batch)\n",
    "    lengths = torch.tensor([len(s) for s in sentences], dtype=torch.long)\n",
    "    padded_sentences = nn.utils.rnn.pad_sequence(sentences, batch_first=True, padding_value=word2idx['<PAD>'])\n",
    "    padded_pos_tags = nn.utils.rnn.pad_sequence(pos_tags, batch_first=True, padding_value=pos2idx['<PAD>'])\n",
    "    return padded_sentences, padded_pos_tags, lengths"
   ]
  },
  {
   "cell_type": "code",
   "execution_count": 12,
   "metadata": {},
   "outputs": [],
   "source": [
    "train_trees, val_trees = train_test_split(trees, test_size=0.1, random_state=42)\n",
    "train_dataset = TreebankDataset(train_trees, word2idx, pos2idx)\n",
    "val_dataset = TreebankDataset(val_trees, word2idx, pos2idx)"
   ]
  },
  {
   "cell_type": "code",
   "execution_count": 13,
   "metadata": {},
   "outputs": [],
   "source": [
    "batch_size = 32\n",
    "train_iter = DataLoader(\n",
    "    train_dataset, \n",
    "    batch_size=batch_size, \n",
    "    shuffle=True, \n",
    "    collate_fn=collate_fn, \n",
    "    num_workers=0\n",
    ")\n",
    "val_iter = DataLoader(\n",
    "    val_dataset, \n",
    "    batch_size=batch_size, \n",
    "    shuffle=False, \n",
    "    collate_fn=collate_fn, \n",
    "    num_workers=0\n",
    ")"
   ]
  },
  {
   "cell_type": "markdown",
   "metadata": {},
   "source": [
    "#### Encoding Definition"
   ]
  },
  {
   "cell_type": "markdown",
   "metadata": {},
   "source": [
    "```markdown\n",
    "In here, the code defines a positional encoding module that adds positional information to word embeddings. This helps the model understand the order of words in a sequence.\n",
    "```"
   ]
  },
  {
   "cell_type": "code",
   "execution_count": 14,
   "metadata": {},
   "outputs": [],
   "source": [
    "class SPositionalEncoding(nn.Module):\n",
    "    def __init__(self, embedding_dim, max_len=5000):\n",
    "        super(SPositionalEncoding, self).__init__()\n",
    "        \n",
    "        # Positional Encoding Tensor for Representing Position Information\n",
    "        pe = torch.zeros(max_len, embedding_dim)\n",
    "        # Tensor for Position Indices\n",
    "        position = torch.arange(0, max_len, dtype=torch.float).unsqueeze(1)\n",
    "        # Divisor Term Tensor for Scaling Positions\n",
    "        div_term = torch.exp(torch.arange(0, embedding_dim, 2).float() * (-np.log(10000.0) / embedding_dim))\n",
    "        # Sine Component of Positional Encoding\n",
    "        pe[:, 0::2] = torch.sin(position * div_term)\n",
    "        # Cosine Component of Positional Encoding (Adjusted for Odd Dimensions)\n",
    "        if embedding_dim % 2 == 1:\n",
    "            pe[:, 1::2] = torch.cos(position * div_term[:-1])\n",
    "        else:\n",
    "            pe[:, 1::2] = torch.cos(position * div_term)\n",
    "        # Adding Batch Dimension to Positional Encoding\n",
    "        pe = pe.unsqueeze(0)\n",
    "        # Registering Positional Encoding as Buffer\n",
    "        self.register_buffer('pe', pe)\n",
    "\n",
    "    def forward(self, x):\n",
    "        # Addition of Positional Encoding to Input Tensor\n",
    "        x = x + self.pe[:, :x.size(1), :]\n",
    "        return x"
   ]
  },
  {
   "cell_type": "markdown",
   "metadata": {},
   "source": [
    "#### Model Definition"
   ]
  },
  {
   "cell_type": "markdown",
   "metadata": {},
   "source": [
    "```markdown\n",
    "In here, the code defines a transformer-based model for POS tagging. The model includes embedding layers, positional encoding, transformer encoder layers, dropout, and a fully connected layer for outputting POS tag probabilities.\n",
    "\n",
    "• Token Embedding Layer\n",
    "The model begins with an embedding layer that maps input token indices into dense vectors of fixed size. This layer can be initialized with a pre-trained embedding matrix, allowing the model to leverage semantic knowledge from external datasets. The embeddings are fine-tuned during training to adapt to the specific task of POS tagging. A padding index is used to handle sequences of varying lengths, ensuring that padded tokens do not affect the training process.\n",
    "\n",
    "• Positional Encoding\n",
    "Since transformers lack inherent sequential processing, a positional encoding layer (SPositionalEncoding) augments the token embeddings with positional information. This step ensures that the transformer can recognize the order of tokens in a sequence, which is critical for tasks like POS tagging where syntactic context depends on token order.\n",
    "\n",
    "• Transformer Encoder\n",
    "The transformer encoder forms the core of the model. It consists of:\n",
    "- Multi-Head Self-Attention: Allows each token to attend to all others in the sequence, capturing long-range dependencies and contextual relationships.\n",
    "- Feedforward Layers: Apply non-linear transformations to the outputs of the attention mechanism, enabling complex feature extraction.\n",
    "- Layer Stacking: Multiple encoder layers are stacked to build a hierarchical representation of the sequence. Each layer refines the features extracted by the previous one.\n",
    "\n",
    "• Dropout Regularization\n",
    "Dropout is applied at multiple stages in the model, including:\n",
    "- After the embedding and positional encoding layers.\n",
    "- Within the transformer encoder to prevent overfitting during self-attention and feedforward computations.\n",
    "- Before the final fully connected layer to regularize the final feature representations.\n",
    "\n",
    "• Key Padding Mask\n",
    "To ensure the model processes variable-length sequences effectively, a key padding mask is generated. This mask prevents the transformer from attending to padded tokens, maintaining the integrity of the attention mechanism and avoiding noise in the learned representations.\n",
    "\n",
    "• Fully Connected Layer\n",
    "The final layer of the model is a fully connected layer that maps the output of the transformer encoder to the desired output dimension (POS tag probabilities). Each token's contextual representation is transformed into logits, which can be further processed using a softmax function during training to compute probabilities for each POS tag.\n",
    "```"
   ]
  },
  {
   "cell_type": "code",
   "execution_count": 15,
   "metadata": {},
   "outputs": [],
   "source": [
    "class STransformerE(nn.Module):\n",
    "    def __init__(self, vocab_size, embedding_dim, num_heads, hidden_dim, num_layers, output_dim, padding_idx, embedding_matrix, dropout=0.1):\n",
    "        super(STransformerE, self).__init__()\n",
    "        \n",
    "        # Embedding Layer for Token Representations\n",
    "        self.embedding = nn.Embedding(vocab_size, embedding_dim, padding_idx=padding_idx)\n",
    "        # Parameter Layer for Embedding Initialization w/ Pre-Trained Embedding Matrix\n",
    "        self.embedding.weight = nn.Parameter(embedding_matrix)\n",
    "        self.embedding.weight.requires_grad = True  # Gradient Enabling for Fine-Tuning\n",
    "        # Positional Encoding Layer for Input Embedding Augmentation\n",
    "        self.pos_encoder = SPositionalEncoding(embedding_dim)\n",
    "        # Transformer Encoder Layer for Contextual Feature Extraction\n",
    "        encoder_layer = nn.TransformerEncoderLayer(\n",
    "            d_model=embedding_dim, \n",
    "            nhead=num_heads, \n",
    "            dim_feedforward=hidden_dim, \n",
    "            dropout=dropout,\n",
    "            batch_first=True\n",
    "        )\n",
    "        # Transformer Encoder Module for Multi-Layer Encoding\n",
    "        self.transformer_encoder = nn.TransformerEncoder(encoder_layer, num_layers=num_layers, norm=nn.LayerNorm(embedding_dim))\n",
    "        # Dropout Layer for Regularization\n",
    "        self.dropout = nn.Dropout(dropout)\n",
    "        # Fully Connected Layer for Mapping Encoded Features to Output Dimension\n",
    "        self.fc = nn.Linear(embedding_dim, output_dim)\n",
    "        \n",
    "        \n",
    "    def forward(self, x):\n",
    "        # Token Embeddings of Input Sequence\n",
    "        embedded = self.embedding(x)\n",
    "        # Addition of Positional Encoding to Token Embeddings\n",
    "        embedded = self.pos_encoder(embedded)\n",
    "        # Dropout of Embedded Tokens\n",
    "        embedded = self.dropout(embedded)\n",
    "        # Key Padding Mask Generation for Transformer Encoder\n",
    "        src_key_padding_mask = (x == self.embedding.padding_idx)\n",
    "        # Contextual Feature Extraction w/ Transformer Encoder\n",
    "        transformer_output = self.transformer_encoder(\n",
    "            embedded, \n",
    "            src_key_padding_mask=src_key_padding_mask\n",
    "        )\n",
    "        # Dropout of Transformer Output\n",
    "        transformer_output = self.dropout(transformer_output)\n",
    "        # Transformation of Encoded Features → Logits for POS Tags\n",
    "        logits = self.fc(transformer_output)\n",
    "        return logits"
   ]
  },
  {
   "cell_type": "code",
   "execution_count": 16,
   "metadata": {},
   "outputs": [],
   "source": [
    "vocab_size = len(word2idx)\n",
    "output_dim = len(pos2idx)\n",
    "padding_idx = word2idx['<PAD>']"
   ]
  },
  {
   "cell_type": "markdown",
   "metadata": {},
   "source": [
    "#### Training Function"
   ]
  },
  {
   "cell_type": "markdown",
   "metadata": {},
   "source": [
    "```markdown\n",
    "In here, the code defines a function to train the model for one epoch. It iterates over the training data, computes predictions, calculates loss, performs backpropagation, and updates the model parameters. It also tracks accuracy.\n",
    "```"
   ]
  },
  {
   "cell_type": "code",
   "execution_count": 17,
   "metadata": {},
   "outputs": [],
   "source": [
    "def train_epoch(net, iter, optimizer, criterion, device):\n",
    "    net.train()\n",
    "    epoch_loss = 0\n",
    "    correct = 0\n",
    "    total = 0\n",
    "    for sentences, pos_tags, lengths in tqdm(iter, desc=\"Training\", leave=False):\n",
    "        sentences = sentences.to(device)\n",
    "        pos_tags = pos_tags.to(device)\n",
    "        lengths = lengths.to(device)\n",
    "        \n",
    "        optimizer.zero_grad()\n",
    "        predictions = net(sentences)\n",
    "        \n",
    "        predictions = predictions.view(-1, predictions.shape[-1])\n",
    "        pos_tags = pos_tags.view(-1)\n",
    "        \n",
    "        loss = criterion(predictions, pos_tags)\n",
    "        loss.backward()\n",
    "        optimizer.step()\n",
    "        \n",
    "        epoch_loss += loss.item()\n",
    "        \n",
    "        preds = torch.argmax(predictions, dim=1)\n",
    "        mask = pos_tags != pos2idx['<PAD>']\n",
    "        correct += (preds[mask] == pos_tags[mask]).sum().item()\n",
    "        total += mask.sum().item()\n",
    "        \n",
    "    accuracy = correct / total if total > 0 else 0\n",
    "    return epoch_loss / len(iter), accuracy"
   ]
  },
  {
   "cell_type": "markdown",
   "metadata": {},
   "source": [
    "#### Evaluation Function"
   ]
  },
  {
   "cell_type": "markdown",
   "metadata": {},
   "source": [
    "```markdown\n",
    "In here, the code defines a function to evaluate the model on the validation set. It computes loss and accuracy without updating the model parameters.\n",
    "```"
   ]
  },
  {
   "cell_type": "code",
   "execution_count": 18,
   "metadata": {},
   "outputs": [],
   "source": [
    "def evaluate_epoch(net, iter, criterion, device):\n",
    "    net.eval()\n",
    "    epoch_loss = 0\n",
    "    correct = 0\n",
    "    total = 0\n",
    "    with torch.no_grad():\n",
    "        for sentences, pos_tags, lengths in tqdm(iter, desc=\"Evaluating\", leave=False):\n",
    "            sentences = sentences.to(device)\n",
    "            pos_tags = pos_tags.to(device)\n",
    "            lengths = lengths.to(device)\n",
    "            \n",
    "            predictions = net(sentences)\n",
    "            predictions = predictions.view(-1, predictions.shape[-1])\n",
    "            pos_tags = pos_tags.view(-1)\n",
    "            \n",
    "            loss = criterion(predictions, pos_tags)\n",
    "            epoch_loss += loss.item()\n",
    "            \n",
    "            preds = torch.argmax(predictions, dim=1)\n",
    "            mask = pos_tags != pos2idx['<PAD>']\n",
    "            correct += (preds[mask] == pos_tags[mask]).sum().item()\n",
    "            total += mask.sum().item()\n",
    "            \n",
    "    accuracy = correct / total if total > 0 else 0\n",
    "    return epoch_loss / len(iter), accuracy"
   ]
  },
  {
   "cell_type": "markdown",
   "metadata": {},
   "source": [
    "#### Hyperparameter Tuning"
   ]
  },
  {
   "cell_type": "markdown",
   "metadata": {},
   "source": [
    "```markdown\n",
    "In here, the code utilizes Optuna to perform hyperparameter tuning. It defines an objective function that trains the model with different hyperparameters and returns the best validation accuracy. The study is then optimized over a specified number of trials.\n",
    "```"
   ]
  },
  {
   "cell_type": "code",
   "execution_count": 19,
   "metadata": {},
   "outputs": [],
   "source": [
    "def objective(trial):\n",
    "    lr = trial.suggest_loguniform('lr', 1e-5, 1e-2)\n",
    "    num_heads = trial.suggest_categorical('num_heads', [4, 5, 8, 10])\n",
    "    hidden_dim = trial.suggest_int('hidden_dim', 256, 1024)\n",
    "    num_layers = trial.suggest_int('num_layers', 2, 6)\n",
    "    dropout = trial.suggest_uniform('dropout', 0.1, 0.5)\n",
    "\n",
    "    net = STransformerE(\n",
    "        vocab_size=vocab_size,\n",
    "        embedding_dim=embedding_dim,\n",
    "        num_heads=num_heads,\n",
    "        hidden_dim=hidden_dim,\n",
    "        num_layers=num_layers,\n",
    "        output_dim=output_dim,\n",
    "        padding_idx=padding_idx,\n",
    "        embedding_matrix=embedding_matrix,\n",
    "        dropout=dropout\n",
    "    )\n",
    "    net = net.to(device)\n",
    "    \n",
    "    criterion = nn.CrossEntropyLoss(ignore_index=pos2idx['<PAD>'])\n",
    "    optimizer = torch.optim.Adam(net.parameters(), lr=lr)\n",
    "    \n",
    "    num_epochs_tuning = 10\n",
    "    best_val_loss = float('inf')\n",
    "    best_val_acc = 0\n",
    "    \n",
    "    for epoch in range(num_epochs_tuning):\n",
    "        train_loss, train_acc = train_epoch(net, train_iter, optimizer, criterion, device)\n",
    "        val_loss, val_acc = evaluate_epoch(net, val_iter, criterion, device)\n",
    "\n",
    "        if val_loss < best_val_loss:\n",
    "            best_val_loss = val_loss\n",
    "            best_val_acc = val_acc\n",
    "    return best_val_acc"
   ]
  },
  {
   "cell_type": "code",
   "execution_count": 20,
   "metadata": {},
   "outputs": [],
   "source": [
    "# study = optuna.create_study(direction='maximize', study_name='POS_Tagger_Hyperparam_Tuning')\n",
    "# study.optimize(objective, n_trials=20)\n",
    "# best_trial = study.best_trial\n",
    "# best_params = best_trial.params"
   ]
  },
  {
   "cell_type": "code",
   "execution_count": 21,
   "metadata": {},
   "outputs": [],
   "source": [
    "# print(\"Best Hyperparameters:\")\n",
    "# for key, value in best_trial.params.items():\n",
    "#     print(f\"  {key}: {value}\")"
   ]
  },
  {
   "cell_type": "markdown",
   "metadata": {},
   "source": [
    "#### Final Training"
   ]
  },
  {
   "cell_type": "markdown",
   "metadata": {},
   "source": [
    "```markdown\n",
    "In here, the code initializes the model with the best hyperparameters obtained from tuning. It then trains the model for a specified number of epochs, saving the best model based on validation loss. Training and validation metrics are recorded for visualization.\n",
    "```"
   ]
  },
  {
   "cell_type": "code",
   "execution_count": 22,
   "metadata": {},
   "outputs": [
    {
     "name": "stderr",
     "output_type": "stream",
     "text": [
      "c:\\Users\\ASUS\\anaconda3\\envs\\ai\\lib\\site-packages\\torch\\nn\\modules\\transformer.py:379: UserWarning: enable_nested_tensor is True, but self.use_nested_tensor is False because encoder_layer.self_attn.num_heads is odd\n",
      "  warnings.warn(\n"
     ]
    }
   ],
   "source": [
    "net = STransformerE(\n",
    "    vocab_size=vocab_size,\n",
    "    embedding_dim=embedding_dim,\n",
    "    # num_heads=best_params['num_heads'],\n",
    "    num_heads=5,\n",
    "    # hidden_dim=best_params['hidden_dim'],\n",
    "    hidden_dim=507,\n",
    "    # num_layers=best_params['num_layers'],\n",
    "    num_layers=4,\n",
    "    output_dim=output_dim,\n",
    "    padding_idx=padding_idx,\n",
    "    embedding_matrix=embedding_matrix,\n",
    "    # dropout=best_params['dropout']\n",
    "    dropout=0.16140237719136658\n",
    ")\n",
    "net = net.to(device)"
   ]
  },
  {
   "cell_type": "code",
   "execution_count": 23,
   "metadata": {},
   "outputs": [],
   "source": [
    "criterion = nn.CrossEntropyLoss(ignore_index=pos2idx['<PAD>'])\n",
    "# optimizer = torch.optim.AdamW(net.parameters(), lr=best_params['lr'], weight_decay=0.01)\n",
    "optimizer = torch.optim.AdamW(net.parameters(), lr=0.001102590574546097, weight_decay=0.01)\n",
    "num_epochs = 20\n",
    "\n",
    "best_val_loss = float('inf')\n",
    "train_losses = []\n",
    "train_accuracies = []\n",
    "val_accuracies = []"
   ]
  },
  {
   "cell_type": "code",
   "execution_count": 24,
   "metadata": {},
   "outputs": [
    {
     "name": "stdout",
     "output_type": "stream",
     "text": [
      "\n",
      "epoch 1/20\n"
     ]
    },
    {
     "name": "stderr",
     "output_type": "stream",
     "text": [
      "                                                            \r"
     ]
    },
    {
     "name": "stdout",
     "output_type": "stream",
     "text": [
      "train loss: 1.5214, train acc: 0.5689, val acc: 0.8139\n",
      "\n",
      "epoch 2/20\n"
     ]
    },
    {
     "name": "stderr",
     "output_type": "stream",
     "text": [
      "                                                           \r"
     ]
    },
    {
     "name": "stdout",
     "output_type": "stream",
     "text": [
      "train loss: 0.6047, train acc: 0.8162, val acc: 0.8589\n",
      "\n",
      "epoch 3/20\n"
     ]
    },
    {
     "name": "stderr",
     "output_type": "stream",
     "text": [
      "                                                            \r"
     ]
    },
    {
     "name": "stdout",
     "output_type": "stream",
     "text": [
      "train loss: 0.4409, train acc: 0.8623, val acc: 0.9032\n",
      "\n",
      "epoch 4/20\n"
     ]
    },
    {
     "name": "stderr",
     "output_type": "stream",
     "text": [
      "                                                            \r"
     ]
    },
    {
     "name": "stdout",
     "output_type": "stream",
     "text": [
      "train loss: 0.3549, train acc: 0.8876, val acc: 0.9151\n",
      "\n",
      "epoch 5/20\n"
     ]
    },
    {
     "name": "stderr",
     "output_type": "stream",
     "text": [
      "                                                           \r"
     ]
    },
    {
     "name": "stdout",
     "output_type": "stream",
     "text": [
      "train loss: 0.3038, train acc: 0.9025, val acc: 0.9218\n",
      "\n",
      "epoch 6/20\n"
     ]
    },
    {
     "name": "stderr",
     "output_type": "stream",
     "text": [
      "                                                            \r"
     ]
    },
    {
     "name": "stdout",
     "output_type": "stream",
     "text": [
      "train loss: 0.2693, train acc: 0.9127, val acc: 0.9302\n",
      "\n",
      "epoch 7/20\n"
     ]
    },
    {
     "name": "stderr",
     "output_type": "stream",
     "text": [
      "                                                            \r"
     ]
    },
    {
     "name": "stdout",
     "output_type": "stream",
     "text": [
      "train loss: 0.2422, train acc: 0.9223, val acc: 0.9307\n",
      "\n",
      "epoch 8/20\n"
     ]
    },
    {
     "name": "stderr",
     "output_type": "stream",
     "text": [
      "                                                            \r"
     ]
    },
    {
     "name": "stdout",
     "output_type": "stream",
     "text": [
      "train loss: 0.2275, train acc: 0.9270, val acc: 0.9334\n",
      "\n",
      "epoch 9/20\n"
     ]
    },
    {
     "name": "stderr",
     "output_type": "stream",
     "text": [
      "                                                           \r"
     ]
    },
    {
     "name": "stdout",
     "output_type": "stream",
     "text": [
      "train loss: 0.2094, train acc: 0.9313, val acc: 0.9349\n",
      "\n",
      "epoch 10/20\n"
     ]
    },
    {
     "name": "stderr",
     "output_type": "stream",
     "text": [
      "                                                            \r"
     ]
    },
    {
     "name": "stdout",
     "output_type": "stream",
     "text": [
      "train loss: 0.1999, train acc: 0.9348, val acc: 0.9356\n",
      "\n",
      "epoch 11/20\n"
     ]
    },
    {
     "name": "stderr",
     "output_type": "stream",
     "text": [
      "                                                            \r"
     ]
    },
    {
     "name": "stdout",
     "output_type": "stream",
     "text": [
      "train loss: 0.1876, train acc: 0.9384, val acc: 0.9335\n",
      "\n",
      "epoch 12/20\n"
     ]
    },
    {
     "name": "stderr",
     "output_type": "stream",
     "text": [
      "                                                            \r"
     ]
    },
    {
     "name": "stdout",
     "output_type": "stream",
     "text": [
      "train loss: 0.1785, train acc: 0.9414, val acc: 0.9416\n",
      "\n",
      "epoch 13/20\n"
     ]
    },
    {
     "name": "stderr",
     "output_type": "stream",
     "text": [
      "                                                            \r"
     ]
    },
    {
     "name": "stdout",
     "output_type": "stream",
     "text": [
      "train loss: 0.1676, train acc: 0.9440, val acc: 0.9376\n",
      "\n",
      "epoch 14/20\n"
     ]
    },
    {
     "name": "stderr",
     "output_type": "stream",
     "text": [
      "                                                           \r"
     ]
    },
    {
     "name": "stdout",
     "output_type": "stream",
     "text": [
      "train loss: 0.1642, train acc: 0.9457, val acc: 0.9434\n",
      "\n",
      "epoch 15/20\n"
     ]
    },
    {
     "name": "stderr",
     "output_type": "stream",
     "text": [
      "                                                            \r"
     ]
    },
    {
     "name": "stdout",
     "output_type": "stream",
     "text": [
      "train loss: 0.1506, train acc: 0.9493, val acc: 0.9435\n",
      "\n",
      "epoch 16/20\n"
     ]
    },
    {
     "name": "stderr",
     "output_type": "stream",
     "text": [
      "                                                            \r"
     ]
    },
    {
     "name": "stdout",
     "output_type": "stream",
     "text": [
      "train loss: 0.1471, train acc: 0.9513, val acc: 0.9429\n",
      "\n",
      "epoch 17/20\n"
     ]
    },
    {
     "name": "stderr",
     "output_type": "stream",
     "text": [
      "                                                            \r"
     ]
    },
    {
     "name": "stdout",
     "output_type": "stream",
     "text": [
      "train loss: 0.1441, train acc: 0.9510, val acc: 0.9420\n",
      "\n",
      "epoch 18/20\n"
     ]
    },
    {
     "name": "stderr",
     "output_type": "stream",
     "text": [
      "                                                            \r"
     ]
    },
    {
     "name": "stdout",
     "output_type": "stream",
     "text": [
      "train loss: 0.1351, train acc: 0.9556, val acc: 0.9433\n",
      "\n",
      "epoch 19/20\n"
     ]
    },
    {
     "name": "stderr",
     "output_type": "stream",
     "text": [
      "                                                           \r"
     ]
    },
    {
     "name": "stdout",
     "output_type": "stream",
     "text": [
      "train loss: 0.1364, train acc: 0.9545, val acc: 0.9437\n",
      "\n",
      "epoch 20/20\n"
     ]
    },
    {
     "name": "stderr",
     "output_type": "stream",
     "text": [
      "                                                           "
     ]
    },
    {
     "name": "stdout",
     "output_type": "stream",
     "text": [
      "train loss: 0.1354, train acc: 0.9546, val acc: 0.9447\n"
     ]
    },
    {
     "name": "stderr",
     "output_type": "stream",
     "text": [
      "\r"
     ]
    }
   ],
   "source": [
    "for epoch in range(num_epochs):\n",
    "    print(f\"\\nepoch {epoch + 1}/{num_epochs}\")\n",
    "    train_loss, train_acc = train_epoch(net, train_iter, optimizer, criterion, device)\n",
    "    val_loss, val_acc = evaluate_epoch(net, val_iter, criterion, device)\n",
    "    \n",
    "    train_losses.append(train_loss)\n",
    "    train_accuracies.append(train_acc)\n",
    "    val_accuracies.append(val_acc)\n",
    "    \n",
    "    print(f\"train loss: {train_loss:.4f}, train acc: {train_acc:.4f}, val acc: {val_acc:.4f}\")\n",
    "    \n",
    "    if val_loss < best_val_loss:\n",
    "        best_val_loss = val_loss\n",
    "        torch.save(net.state_dict(), 'best_model.pth')"
   ]
  },
  {
   "cell_type": "code",
   "execution_count": 25,
   "metadata": {},
   "outputs": [
    {
     "data": {
      "image/png": "[encoded data removed]",
      "text/plain": [
       "<Figure size 600x400 with 1 Axes>"
      ]
     },
     "metadata": {},
     "output_type": "display_data"
    }
   ],
   "source": [
    "epochs_range = range(1, num_epochs + 1)\n",
    "plt.figure(figsize=(6, 4))\n",
    "\n",
    "plt.plot(epochs_range, train_losses, label='train loss', linestyle='-', color='#2a7db8')\n",
    "plt.plot(epochs_range, train_accuracies, label='train acc', linestyle='--', color='magenta')\n",
    "plt.plot(epochs_range, val_accuracies, label='val acc', linestyle='-.', color='green')\n",
    "plt.xlabel('epoch')\n",
    "plt.ylabel('value')\n",
    "plt.ylim(0, 1)\n",
    "plt.legend(loc='lower right')\n",
    "plt.grid(True)\n",
    "plt.tight_layout()\n",
    "\n",
    "plt.show()"
   ]
  },
  {
   "cell_type": "markdown",
   "metadata": {},
   "source": [
    "#### Evaluation Metrics"
   ]
  },
  {
   "cell_type": "markdown",
   "metadata": {},
   "source": [
    "```markdown\n",
    "In here, the code loads the best-performing model and defines a function to calculate evaluation metrics such as accuracy, precision, recall, and F1 score on the validation set.\n",
    "```"
   ]
  },
  {
   "cell_type": "code",
   "execution_count": 26,
   "metadata": {},
   "outputs": [
    {
     "name": "stderr",
     "output_type": "stream",
     "text": [
      "C:\\Users\\ASUS\\AppData\\Local\\Temp\\ipykernel_4860\\2640716579.py:1: FutureWarning: You are using `torch.load` with `weights_only=False` (the current default value), which uses the default pickle module implicitly. It is possible to construct malicious pickle data which will execute arbitrary code during unpickling (See https://github.com/pytorch/pytorch/blob/main/SECURITY.md#untrusted-models for more details). In a future release, the default value for `weights_only` will be flipped to `True`. This limits the functions that could be executed during unpickling. Arbitrary objects will no longer be allowed to be loaded via this mode unless they are explicitly allowlisted by the user via `torch.serialization.add_safe_globals`. We recommend you start setting `weights_only=True` for any use case where you don't have full control of the loaded file. Please open an issue on GitHub for any issues related to this experimental feature.\n",
      "  net.load_state_dict(torch.load('best_model.pth'))\n"
     ]
    },
    {
     "data": {
      "text/plain": [
       "<All keys matched successfully>"
      ]
     },
     "execution_count": 26,
     "metadata": {},
     "output_type": "execute_result"
    }
   ],
   "source": [
    "net.load_state_dict(torch.load('best_model.pth'))"
   ]
  },
  {
   "cell_type": "code",
   "execution_count": 27,
   "metadata": {},
   "outputs": [],
   "source": [
    "def cal_metrics(net, iter):\n",
    "    net.eval()\n",
    "    all_preds = []\n",
    "    all_labels = []\n",
    "    \n",
    "    with torch.no_grad():\n",
    "        for sentences, pos_tags, lengths in tqdm(iter, desc=\"Predicting\", leave=False):\n",
    "            sentences = sentences.to(device)\n",
    "            pos_tags = pos_tags.to(device)\n",
    "            lengths = lengths.to(device)\n",
    "            \n",
    "            predictions = net(sentences)\n",
    "            predicted_indices = torch.argmax(predictions, dim=-1)\n",
    "            \n",
    "            for i in range(sentences.size(0)):\n",
    "                length = lengths[i]\n",
    "                pred = predicted_indices[i][:length].cpu().numpy()\n",
    "                label = pos_tags[i][:length].cpu().numpy()\n",
    "                all_preds.extend(pred)\n",
    "                all_labels.extend(label)\n",
    "    \n",
    "    pred_labels = [idx2pos[idx] for idx in all_preds if idx != pos2idx['<PAD>']]\n",
    "    true_labels = [idx2pos[idx] for idx in all_labels if idx != pos2idx['<PAD>']]\n",
    "\n",
    "    accuracy = accuracy_score(true_labels, pred_labels)\n",
    "    precision = precision_score(true_labels, pred_labels, average='weighted', zero_division=0)\n",
    "    recall = recall_score(true_labels, pred_labels, average='weighted', zero_division=0)\n",
    "    f1 = f1_score(true_labels, pred_labels, average='weighted', zero_division=0)\n",
    "    \n",
    "    print(f\"Accuracy: {accuracy:.4f}\")\n",
    "    print(f\"Precision: {precision:.4f}\")\n",
    "    print(f\"Recall: {recall:.4f}\")\n",
    "    print(f\"F1 Score: {f1:.4f}\")\n",
    "    \n",
    "    return None"
   ]
  },
  {
   "cell_type": "code",
   "execution_count": 28,
   "metadata": {},
   "outputs": [
    {
     "name": "stderr",
     "output_type": "stream",
     "text": [
      "                                                          \r"
     ]
    },
    {
     "name": "stdout",
     "output_type": "stream",
     "text": [
      "Accuracy: 0.9429\n",
      "Precision: 0.9426\n",
      "Recall: 0.9429\n",
      "F1 Score: 0.9424\n"
     ]
    }
   ],
   "source": [
    "cal_metrics(net, val_iter)"
   ]
  },
  {
   "cell_type": "markdown",
   "metadata": {},
   "source": [
    "#### Prediction"
   ]
  },
  {
   "cell_type": "markdown",
   "metadata": {},
   "source": [
    "```markdown\n",
    "In here, the code defines a function to predict POS tags for a given input sequence. It tokenizes the input, converts words to indices, runs the model to obtain predictions, and constructs a parse tree with predicted POS tags. Additionally, it provides descriptions for each unique POS tag in the prediction.\n",
    "```"
   ]
  },
  {
   "cell_type": "code",
   "execution_count": 29,
   "metadata": {},
   "outputs": [],
   "source": [
    "def predict_pos_tag(net, word2idx, idx2pos, sequence):\n",
    "    net.eval()\n",
    "\n",
    "    pos_descriptions = {\n",
    "        \"CC\": \"Coordinating Conjunction\",\n",
    "        \"CD\": \"Cardinal Number\",\n",
    "        \"DT\": \"Determiner\",\n",
    "        \"EX\": \"Existential 'There'\",\n",
    "        \"FW\": \"Foreign Word\",\n",
    "        \"IN\": \"Preposition or Subordinating Conjunction\",\n",
    "        \"JJ\": \"Adjective\",\n",
    "        \"JJR\": \"Adjective (Comparative)\",\n",
    "        \"JJS\": \"Adjective (Superlative)\",\n",
    "        \"LS\": \"List Item Marker\",\n",
    "        \"MD\": \"Modal\",\n",
    "        \"NN\": \"Noun (Singular or Mass)\",\n",
    "        \"NNS\": \"Noun (Plural)\",\n",
    "        \"NNP\": \"Proper Noun (Singular)\",\n",
    "        \"NNPS\": \"Proper Noun (Plural)\",\n",
    "        \"PDT\": \"Predeterminer\",\n",
    "        \"POS\": \"Possessive Ending\",\n",
    "        \"PRP\": \"Personal Pronoun\",\n",
    "        \"PRP$\": \"Possessive Pronoun\",\n",
    "        \"RB\": \"Adverb\",\n",
    "        \"RBR\": \"Adverb (Comparative)\",\n",
    "        \"RBS\": \"Adverb (Superlative)\",\n",
    "        \"RP\": \"Particle\",\n",
    "        \"SYM\": \"Symbol\",\n",
    "        \"TO\": \"to\",\n",
    "        \"UH\": \"Interjection\",\n",
    "        \"VB\": \"Verb (Base Form)\",\n",
    "        \"VBD\": \"Verb (Past Tense)\",\n",
    "        \"VBG\": \"Verb (Gerund or Present Participle)\",\n",
    "        \"VBN\": \"Verb (Past Participle)\",\n",
    "        \"VBP\": \"Verb (Non-3rd-Person Singular Present)\",\n",
    "        \"VBZ\": \"Verb (3rd Person Singular Present)\",\n",
    "        \"WDT\": \"Wh-Determiner\",\n",
    "        \"WP\": \"Wh-Pronoun\",\n",
    "        \"WP$\": \"Possessive Wh-Pronoun\",\n",
    "        \"WRB\": \"Wh-Adverb\"\n",
    "    }\n",
    "\n",
    "    if isinstance(sequence, str):\n",
    "        words = nltk.word_tokenize(sequence)\n",
    "    elif isinstance(sequence, list):\n",
    "        words = sequence\n",
    "    else:\n",
    "        raise ValueError\n",
    "\n",
    "    words_lower = [word.lower() for word in words]\n",
    "    word_indices = [word2idx.get(word, word2idx['<UNK>']) for word in words_lower]\n",
    "\n",
    "    input_tensor = torch.tensor([word_indices], dtype=torch.long).to(device)\n",
    "    lengths = torch.tensor([len(word_indices)], dtype=torch.long).to(device)\n",
    "\n",
    "    with torch.no_grad():\n",
    "        logits = net(input_tensor)\n",
    "        predictions = torch.argmax(logits, dim=-1)\n",
    "\n",
    "    predicted_pos_indices = predictions[0][:lengths[0]].cpu().numpy()\n",
    "    predicted_pos_tags = [idx2pos[idx] for idx in predicted_pos_indices]\n",
    "            \n",
    "    word_pos_pairs = list(zip(words, predicted_pos_tags))\n",
    "    tree = Tree('S', [Tree(pos, [word]) for word, pos in word_pos_pairs])\n",
    "    tree.pretty_print()\n",
    "\n",
    "    ordered_unique_pos = []\n",
    "    for pos in predicted_pos_tags:\n",
    "        if pos not in ordered_unique_pos:\n",
    "            ordered_unique_pos.append(pos)\n",
    "        \n",
    "    print(\"Description:\")\n",
    "    for pos in ordered_unique_pos:\n",
    "        description = pos_descriptions.get(pos, \"Unknown POS tag\")\n",
    "        print(f\"{pos}: {description}\")\n",
    "        \n",
    "    return tree, description"
   ]
  },
  {
   "cell_type": "code",
   "execution_count": 30,
   "metadata": {},
   "outputs": [
    {
     "name": "stdout",
     "output_type": "stream",
     "text": [
      "                      S                    \n",
      "  ____________________|__________________   \n",
      " DT   JJ   NNP  NNP   NN   IN   DT NNP  NNP\n",
      " |    |     |    |    |    |    |   |    |  \n",
      "The quick brown fox jumps over the lazy dog\n",
      "\n",
      "Description:\n",
      "DT: Determiner\n",
      "JJ: Adjective\n",
      "NNP: Proper Noun (Singular)\n",
      "NN: Noun (Singular or Mass)\n",
      "IN: Preposition or Subordinating Conjunction\n"
     ]
    }
   ],
   "source": [
    "pos_tree = predict_pos_tag(net, word2idx, idx2pos, \"The quick brown fox jumps over the lazy dog\")"
   ]
  }
 ],
 "metadata": {
  "kernelspec": {
   "display_name": "ai",
   "language": "python",
   "name": "python3"
  },
  "language_info": {
   "codemirror_mode": {
    "name": "ipython",
    "version": 3
   },
   "file_extension": ".py",
   "mimetype": "text/x-python",
   "name": "python",
   "nbconvert_exporter": "python",
   "pygments_lexer": "ipython3",
   "version": "3.10.15"
  }
 },
 "nbformat": 4,
 "nbformat_minor": 2
}
